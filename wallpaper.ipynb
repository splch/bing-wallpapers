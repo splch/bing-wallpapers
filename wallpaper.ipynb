{
 "cells": [
  {
   "cell_type": "code",
   "execution_count": 1,
   "metadata": {},
   "outputs": [
    {
     "name": "stdout",
     "output_type": "stream",
     "text": [
      "Darwin\n"
     ]
    }
   ],
   "source": [
    "from os import system, getcwd, path\n",
    "import requests\n",
    "import urllib.request\n",
    "\n",
    "from platform import system as sys\n",
    "sys = sys()\n",
    "print(sys)\n",
    "if sys == 'Darwin':\n",
    "    from appscript import app, mactypes\n",
    "else:\n",
    "    import win32api\n",
    "    import win32gui\n",
    "    import win32con"
   ]
  },
  {
   "cell_type": "code",
   "execution_count": 2,
   "metadata": {},
   "outputs": [
    {
     "name": "stdout",
     "output_type": "stream",
     "text": [
      "/Users/splch/Documents/GitHub/daily-paper/\n"
     ]
    }
   ],
   "source": [
    "# Get current directory\n",
    "folder = getcwd()+'/'\n",
    "\n",
    "print(folder)"
   ]
  },
  {
   "cell_type": "code",
   "execution_count": 3,
   "metadata": {},
   "outputs": [
    {
     "name": "stdout",
     "output_type": "stream",
     "text": [
      "https://www.bing.com/th?id=OHR.LassenPeak_EN-US7363073851_1920x1200.jpg&rf=LaDigue_1920x1200.jpg&pid=hp\n"
     ]
    }
   ],
   "source": [
    "# URL in json format with latest wallpaper\n",
    "url = 'https://www.bing.com/HPImageArchive.aspx?format=js&n=1'\n",
    "\n",
    "# Get json output\n",
    "resp = requests.get(url)\n",
    "data = resp.json()\n",
    "\n",
    "# Form image url from json\n",
    "\n",
    "img = 'https://www.bing.com' + data['images'][0]['url'].replace('1080', '1200')\n",
    "\n",
    "print(img)"
   ]
  },
  {
   "cell_type": "code",
   "execution_count": 4,
   "metadata": {},
   "outputs": [
    {
     "name": "stdout",
     "output_type": "stream",
     "text": [
      "Downloaded wallpaper\n"
     ]
    }
   ],
   "source": [
    "img_path = folder+'daily_wallpaper'+img[-11:-7]\n",
    "run = path.exists(img_path) # check if first run\n",
    "\n",
    "try:\n",
    "    urllib.request.urlretrieve(img, img_path)\n",
    "except:\n",
    "    urllib.request.urlretrieve(img.replace('1200', '1080'), img_path)\n",
    "print('Downloaded wallpaper')"
   ]
  },
  {
   "cell_type": "code",
   "execution_count": 5,
   "metadata": {},
   "outputs": [
    {
     "name": "stdout",
     "output_type": "stream",
     "text": [
      "Set wallpaper\n"
     ]
    }
   ],
   "source": [
    "# Set mac/win/linux wallpaper\n",
    "if sys == 'Darwin':\n",
    "    system('osascript -e \\'tell application \"Finder\" to set desktop picture to \"'+img_path+'\" as POSIX file\\'')\n",
    "else:\n",
    "    key = win32api.RegOpenKeyEx(win32con.HKEY_CURRENT_USER,\"Control Panel\\\\Desktop\",0,win32con.KEY_SET_VALUE)\n",
    "    win32api.RegSetValueEx(key, \"WallpaperStyle\", 0, win32con.REG_SZ, \"0\")\n",
    "    win32api.RegSetValueEx(key, \"TileWallpaper\", 0, win32con.REG_SZ, \"0\")\n",
    "    win32gui.SystemParametersInfo(win32con.SPI_SETDESKWALLPAPER, img_path.replace('\\\\', '/'), 1+2)\n",
    "    \n",
    "print('Set wallpaper')"
   ]
  },
  {
   "cell_type": "code",
   "execution_count": 6,
   "metadata": {},
   "outputs": [],
   "source": [
    "# automatically change wallpaper (mac/linux)\n",
    "if not run:\n",
    "    system('crontab -l | { cat; echo \"0 */2 * * * cd '+folder+' && $(which python3) '+folder+'wallpaper.py\"; } | crontab -')\n",
    "    print('Scheduled cron job.')"
   ]
  }
 ],
 "metadata": {
  "kernelspec": {
   "display_name": "Python 3",
   "language": "python",
   "name": "python3"
  },
  "language_info": {
   "codemirror_mode": {
    "name": "ipython",
    "version": 3
   },
   "file_extension": ".py",
   "mimetype": "text/x-python",
   "name": "python",
   "nbconvert_exporter": "python",
   "pygments_lexer": "ipython3",
   "version": "3.8.3"
  }
 },
 "nbformat": 4,
 "nbformat_minor": 4
}
